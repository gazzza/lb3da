{
 "metadata": {
  "name": ""
 },
 "nbformat": 3,
 "nbformat_minor": 0,
 "worksheets": [
  {
   "cells": [
    {
     "cell_type": "code",
     "collapsed": false,
     "input": [
      "import nuro.matrix\n",
      "import nuro.files"
     ],
     "language": "python",
     "metadata": {},
     "outputs": [],
     "prompt_number": 2
    },
    {
     "cell_type": "markdown",
     "metadata": {},
     "source": [
      "First, create an MDFile object. We're going to look at the MD output of two anisotropic particles at a liquid-liquid interface. "
     ]
    },
    {
     "cell_type": "markdown",
     "metadata": {},
     "source": [
      "<img src=\"files/2_particles/rendered-output_t00010000-1413193586.png\">"
     ]
    },
    {
     "cell_type": "code",
     "collapsed": false,
     "input": [
      "fob = nuro.files.MDFile('2_particles/md-cfg_output_t00010000-1413193586.asc')"
     ],
     "language": "python",
     "metadata": {},
     "outputs": [],
     "prompt_number": 3
    },
    {
     "cell_type": "markdown",
     "metadata": {},
     "source": [
      "The most important method available to an MDFile object is the create_matrix() method, which turns the lines of the LB3D MD output file into a multi-dimensional list. "
     ]
    },
    {
     "cell_type": "code",
     "collapsed": false,
     "input": [
      "fob.create_matrix()"
     ],
     "language": "python",
     "metadata": {},
     "outputs": [
      {
       "metadata": {},
       "output_type": "pyout",
       "prompt_number": 4,
       "text": [
        "[[36.7,\n",
        "  64.0,\n",
        "  108.5,\n",
        "  0.0,\n",
        "  0.0,\n",
        "  0.0,\n",
        "  -0.0059716544,\n",
        "  -4.4408921e-16,\n",
        "  0.000874300658,\n",
        "  0.0,\n",
        "  1.0,\n",
        "  2.22044605e-16,\n",
        "  0.0,\n",
        "  0.0,\n",
        "  0.0,\n",
        "  1.02418074e-14,\n",
        "  -0.00012134029,\n",
        "  -2.84217094e-14,\n",
        "  1.0],\n",
        " [36.7,\n",
        "  64.0,\n",
        "  148.5,\n",
        "  0.0,\n",
        "  0.0,\n",
        "  0.0,\n",
        "  -0.0059716544,\n",
        "  -8.8817842e-16,\n",
        "  -0.000874300658,\n",
        "  0.0,\n",
        "  1.0,\n",
        "  2.22044605e-16,\n",
        "  0.0,\n",
        "  0.0,\n",
        "  0.0,\n",
        "  -8.29891711e-15,\n",
        "  0.00012134029,\n",
        "  -7.46069873e-14,\n",
        "  2.0]]"
       ]
      }
     ],
     "prompt_number": 4
    },
    {
     "cell_type": "markdown",
     "metadata": {},
     "source": [
      "Some other methods availabile to an MDFile object are path and tstep, which return the full path of the MD file and the time-step of the file as an integer respectively."
     ]
    },
    {
     "cell_type": "code",
     "collapsed": false,
     "input": [
      "fob.path(), fob.tstep()"
     ],
     "language": "python",
     "metadata": {},
     "outputs": [
      {
       "metadata": {},
       "output_type": "pyout",
       "prompt_number": 5,
       "text": [
        "('/Users/Gary/Dropbox/nuro_tests/2_particles/md-cfg_output_t00010000-1413193586.asc',\n",
        " 10000)"
       ]
      }
     ],
     "prompt_number": 5
    },
    {
     "cell_type": "markdown",
     "metadata": {},
     "source": [
      "The main functionality of nuro is encapsulated in the nuro.matrix library. It contains only the MDMatrix class, which takes a multi-dimensional list, such as one provided by MDFile.create_matrix(), and turns it into a numpy array. Another (optional) argument of the MDMatrix class is a list of the outputs you specified in your input-file.md file (if you don't specify a list of additional outputs, then MDMatrix just assumes LB3D's default MD outputs):"
     ]
    },
    {
     "cell_type": "code",
     "collapsed": false,
     "input": [
      "md_matrix = nuro.matrix.MDMatrix(fob.create_matrix(),['force','torque'])"
     ],
     "language": "python",
     "metadata": {},
     "outputs": [],
     "prompt_number": 6
    },
    {
     "cell_type": "markdown",
     "metadata": {},
     "source": [
      "If you don't specify a list of additional outputs, then MDMatrix assumes your file columns are just the default outputs as specified in the LB3D manual. "
     ]
    },
    {
     "cell_type": "markdown",
     "metadata": {},
     "source": [
      "Now the fun starts. MDMatrix contains a whole load of methods which will output useful information. For a full list, see the manual. Here is a taster of some of the functionality."
     ]
    },
    {
     "cell_type": "code",
     "collapsed": false,
     "input": [
      "md_matrix.m"
     ],
     "language": "python",
     "metadata": {},
     "outputs": [
      {
       "metadata": {},
       "output_type": "pyout",
       "prompt_number": 7,
       "text": [
        "array([[  3.67000000e+01,   6.40000000e+01,   1.08500000e+02,\n",
        "          0.00000000e+00,   0.00000000e+00,   0.00000000e+00,\n",
        "         -5.97165440e-03,  -4.44089210e-16,   8.74300658e-04,\n",
        "          0.00000000e+00,   1.00000000e+00,   2.22044605e-16,\n",
        "          0.00000000e+00,   0.00000000e+00,   0.00000000e+00,\n",
        "          1.02418074e-14,  -1.21340290e-04,  -2.84217094e-14,\n",
        "          1.00000000e+00],\n",
        "       [  3.67000000e+01,   6.40000000e+01,   1.48500000e+02,\n",
        "          0.00000000e+00,   0.00000000e+00,   0.00000000e+00,\n",
        "         -5.97165440e-03,  -8.88178420e-16,  -8.74300658e-04,\n",
        "          0.00000000e+00,   1.00000000e+00,   2.22044605e-16,\n",
        "          0.00000000e+00,   0.00000000e+00,   0.00000000e+00,\n",
        "         -8.29891711e-15,   1.21340290e-04,  -7.46069873e-14,\n",
        "          2.00000000e+00]])"
       ]
      }
     ],
     "prompt_number": 7
    },
    {
     "cell_type": "markdown",
     "metadata": {},
     "source": [
      "Is an attribute which stores the full matrix as a 2-dimensional numpy array. Each row contains data for a single particle. "
     ]
    },
    {
     "cell_type": "code",
     "collapsed": false,
     "input": [
      "md_matrix.N, md_matrix.outputs"
     ],
     "language": "python",
     "metadata": {},
     "outputs": [
      {
       "metadata": {},
       "output_type": "pyout",
       "prompt_number": 8,
       "text": [
        "(2,\n",
        " ['position',\n",
        "  'velocity',\n",
        "  'force',\n",
        "  'orientation',\n",
        "  'angular_velocity',\n",
        "  'torque',\n",
        "  'id'])"
       ]
      }
     ],
     "prompt_number": 8
    },
    {
     "cell_type": "markdown",
     "metadata": {},
     "source": [
      "The MDMatrix.N attribute tells you how many particles are in your output file, and the MDMatrix.outputs attribute shows you what data is included in your matrix, according to what you specified when you initialised the object, so you don't have to figure out by hand which row elements correspond to what data by hand. "
     ]
    },
    {
     "cell_type": "code",
     "collapsed": false,
     "input": [
      "md_matrix.x(),md_matrix.x(0),md_matrix.x(1)"
     ],
     "language": "python",
     "metadata": {},
     "outputs": [
      {
       "metadata": {},
       "output_type": "pyout",
       "prompt_number": 9,
       "text": [
        "(array([[  36.7,   64. ,  108.5],\n",
        "       [  36.7,   64. ,  148.5]]),\n",
        " array([  36.7,   64. ,  108.5]),\n",
        " array([  36.7,   64. ,  148.5]))"
       ]
      }
     ],
     "prompt_number": 9
    },
    {
     "cell_type": "markdown",
     "metadata": {},
     "source": [
      "The .x() method will give you the coordinates of all particles, or if you specify a particle id then only the coordinates of that particular particle. Don't forget that python arrays are indexed from 0, and Fortran 1, so .x(0) gives you the coordinates of the 1st particle according to LB3D's MD output file. "
     ]
    },
    {
     "cell_type": "code",
     "collapsed": false,
     "input": [
      "md_matrix.f()"
     ],
     "language": "python",
     "metadata": {},
     "outputs": [
      {
       "metadata": {},
       "output_type": "pyout",
       "prompt_number": 10,
       "text": [
        "array([[ -5.97165440e-03,  -4.44089210e-16,   8.74300658e-04,\n",
        "          6.03531755e-03],\n",
        "       [ -5.97165440e-03,  -8.88178420e-16,  -8.74300658e-04,\n",
        "          6.03531755e-03]])"
       ]
      }
     ],
     "prompt_number": 10
    },
    {
     "cell_type": "markdown",
     "metadata": {},
     "source": [
      "The .f() method will return $(F_x,F_y,F_z,F_{T})$ where $F_T = \\sqrt{F_x^2 + F_y^2 + F_z^2}$ is the total force on the particle. Again, we can also do .f(pid) to return the forces on a single particle:"
     ]
    },
    {
     "cell_type": "code",
     "collapsed": false,
     "input": [
      "md_matrix.f(1)"
     ],
     "language": "python",
     "metadata": {},
     "outputs": [
      {
       "metadata": {},
       "output_type": "pyout",
       "prompt_number": 11,
       "text": [
        "array([ -5.97165440e-03,  -8.88178420e-16,  -8.74300658e-04,\n",
        "         6.03531755e-03])"
       ]
      }
     ],
     "prompt_number": 11
    },
    {
     "cell_type": "markdown",
     "metadata": {},
     "source": [
      "The .v() method will return $(v_x,v_y,v_z,v_{T})$ where $v_T = \\sqrt{v_x^2 + v_y^2 + v_z^2}$ is the total particle velocity."
     ]
    },
    {
     "cell_type": "code",
     "collapsed": false,
     "input": [
      "md_matrix.v()"
     ],
     "language": "python",
     "metadata": {},
     "outputs": [
      {
       "metadata": {},
       "output_type": "pyout",
       "prompt_number": 12,
       "text": [
        "array([[ 0.,  0.,  0.,  0.],\n",
        "       [ 0.,  0.,  0.,  0.]])"
       ]
      }
     ],
     "prompt_number": 12
    },
    {
     "cell_type": "markdown",
     "metadata": {},
     "source": [
      "The .av() method will return $(\\alpha_x,\\alpha_y,\\alpha_z,\\alpha_{T})$ where $\\alpha_T = \\sqrt{\\alpha_x^2 + \\alpha_y^2 + \\alpha_z^2}$ is the total particle angular velocity."
     ]
    },
    {
     "cell_type": "code",
     "collapsed": false,
     "input": [
      "md_matrix.av()"
     ],
     "language": "python",
     "metadata": {},
     "outputs": [
      {
       "metadata": {},
       "output_type": "pyout",
       "prompt_number": 13,
       "text": [
        "array([[ 0.,  0.,  0.,  0.],\n",
        "       [ 0.,  0.,  0.,  0.]])"
       ]
      }
     ],
     "prompt_number": 13
    },
    {
     "cell_type": "markdown",
     "metadata": {},
     "source": [
      "and the .t() method will return $(\\tau_x,\\tau_y,\\tau_z,\\tau_{T})$ where $\\tau_T = \\sqrt{\\tau_x^2 + \\tau_y^2 + \\tau_z^2}$ is the total torque on the particle."
     ]
    },
    {
     "cell_type": "code",
     "collapsed": false,
     "input": [
      "md_matrix.t()"
     ],
     "language": "python",
     "metadata": {},
     "outputs": [
      {
       "metadata": {},
       "output_type": "pyout",
       "prompt_number": 14,
       "text": [
        "array([[  1.02418074e-14,  -1.21340290e-04,  -2.84217094e-14,\n",
        "          1.21340290e-04],\n",
        "       [ -8.29891711e-15,   1.21340290e-04,  -7.46069873e-14,\n",
        "          1.21340290e-04]])"
       ]
      }
     ],
     "prompt_number": 14
    },
    {
     "cell_type": "markdown",
     "metadata": {},
     "source": [
      "Notice, nuro takes care of working out which indices correspond to which output data, so you don't have to figure out by hand which columns correpond to e.g. the torques every time, depending on what quantities you specified in your output file. "
     ]
    },
    {
     "cell_type": "markdown",
     "metadata": {},
     "source": [
      "I also implemented the S and Q order parameters defined in <a href = http://arxiv.org/abs/1312.6591>Florian G's Timescales of Emulsion Formation Paper</a> as $S = \\frac{1}{2} \\langle 3 \\cos^2 \\theta - 1 \\rangle$ and $Q= \\frac{3}{2} \\langle \\sin^2 \\theta \\cos 2\\phi \\rangle$ respectively. \n",
      "\n"
     ]
    },
    {
     "cell_type": "code",
     "collapsed": false,
     "input": [
      "md_matrix.S()"
     ],
     "language": "python",
     "metadata": {},
     "outputs": [
      {
       "metadata": {},
       "output_type": "pyout",
       "prompt_number": 15,
       "text": [
        "array([-0.5,  1. , -0.5])"
       ]
      }
     ],
     "prompt_number": 15
    },
    {
     "cell_type": "markdown",
     "metadata": {},
     "source": [
      "Notice that the .S() method returns a 1x3 matrix. Each column corresponds to the axis with which $\\theta$ is measured against. So S[0] is for $\\theta$ as the angle between the particle's orientation vector and the $x$ axis, S[1] is when $\\theta$ is the angle between the particle's orientation vector and the $y$ axis and S[2] is when $\\theta$ is the angle between the particle's orientation vector and the $z$ axis."
     ]
    },
    {
     "cell_type": "code",
     "collapsed": false,
     "input": [
      "md_matrix.Q()"
     ],
     "language": "python",
     "metadata": {},
     "outputs": [
      {
       "metadata": {},
       "output_type": "pyout",
       "prompt_number": 16,
       "text": [
        "array([[-1.5,  1.5, -1.5],\n",
        "       [ 0. ,  0. ,  0. ],\n",
        "       [-1.5,  1.5, -1.5]])"
       ]
      }
     ],
     "prompt_number": 16
    },
    {
     "cell_type": "markdown",
     "metadata": {},
     "source": [
      "The .Q() method returns a 3x3 matrix, which basically represents $Q = \\begin{bmatrix} Q_{xx} & Q_{xy} & Q_{xz} \\\\ Q_{yx} & Q_{yy} & Q_{yz} \\\\ Q_{zx} & Q_{zy} & Q_{zz} \\\\\\end{bmatrix}$ where $Q_{xy}$ is the element which correponds to $\\theta$ being measured with respect to the $x$ direction and $\\phi$ being measured with respect to the $y$ direction etc."
     ]
    },
    {
     "cell_type": "code",
     "collapsed": false,
     "input": [],
     "language": "python",
     "metadata": {},
     "outputs": []
    }
   ],
   "metadata": {}
  }
 ]
}